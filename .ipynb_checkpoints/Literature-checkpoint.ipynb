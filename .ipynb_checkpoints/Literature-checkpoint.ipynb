{
 "cells": [
  {
   "cell_type": "code",
   "execution_count": 1,
   "metadata": {},
   "outputs": [],
   "source": [
    "from urllib.request import urlopen\n",
    "from bs4 import BeautifulSoup\n",
    "import re"
   ]
  },
  {
   "cell_type": "code",
   "execution_count": 3,
   "metadata": {},
   "outputs": [
    {
     "name": "stdout",
     "output_type": "stream",
     "text": [
      "test\n",
      "### Wistful\n"
     ]
    },
    {
     "name": "stderr",
     "output_type": "stream",
     "text": [
      "/anaconda3/lib/python3.6/site-packages/bs4/__init__.py:181: UserWarning: No parser was explicitly specified, so I'm using the best available HTML parser for this system (\"lxml\"). This usually isn't a problem, but if you run this code on another system, or in a different virtual environment, it may use a different parser and behave differently.\n",
      "\n",
      "The code that caused this warning is on line 193 of the file /anaconda3/lib/python3.6/runpy.py. To get rid of this warning, change code that looks like this:\n",
      "\n",
      " BeautifulSoup(YOUR_MARKUP})\n",
      "\n",
      "to this:\n",
      "\n",
      " BeautifulSoup(YOUR_MARKUP, \"lxml\")\n",
      "\n",
      "  markup_type=markup_type))\n"
     ]
    },
    {
     "name": "stdout",
     "output_type": "stream",
     "text": [
      "- showing pensive sadness\n",
      "### Witty\n",
      "- combining clever conception and facetious expression\n",
      "### Worried\n",
      "- afflicted with or marked by anxious uneasiness or trouble or grief\n",
      "- mentally upset over possible misfortune or danger etc\n",
      "### Wry\n",
      "- humorously sarcastic or mocking\n",
      "- bent to one side\n",
      "### Zealous\n",
      "- marked by active interest and enthusiasm\n"
     ]
    }
   ],
   "source": [
    "vocab = [\"Affectionate\",\"Aggravated\",\"Agitated\",\"Ambivalent\",\"Angry\",\"Annoyed\",\"Anxious\",\"Apathetic\",\"Apologetic\",\"Apprehensive\",\"Arrogant\",\"Artificial\",\"Austere\",\"Authoritative\",\"Bantering\",\"Bewildered\",\"Bitter\",\"Blunt\",\"Bossy\",\"Brash\",\"Brusque\",\"Calm\",\"Candid \",\"Carping\",\"Casual\",\"Censorious\",\"Cheerful\",\"Choleric\",\"Cold\",\"Compassionate\",\"Complacent\",\"Conceited\",\"Conciliatory\",\"Condescending\",\"Confident\",\"Confused\",\"Contemptuous\",\"Contentious\",\"Contradictory\",\"Cynical\",\"Defiant\",\"Dejected\",\"Delightful\",\"Depressed\",\"Derisive\",\"Derogatory\",\"Desolate\",\"Desperate\",\"Devotional\",\"Diabolic\",\"Didactic\",\"Dignified\",\"Disappointed\",\"Disdainful\",\"Disgusted\",\"Disinterested\",\"Dogmatic\",\"Doubtful\",\"Ebullient\",\"Ecstatic\",\"Effusive\",\"Elated\",\"Elegiac\",\"Empathetic\",\"Encouraging\",\"Enraged\",\"Enthusiastic\",\"Euphoric\",\"Excited\",\"Expectant\",\"Fanciful\",\"Fatalistic\",\"Fearful\",\"Fervent\",\"Flippant\",\"Foreboding\",\"Frantic\",\"Friendly\",\"Frightened\",\"Frustrated\",\"Furious\",\"Gleeful\",\"Gloomy\",\"Grave\",\"Greedy\",\"Grim\",\"Happy\",\"Harsh\",\"Haughty\",\"Hilarious\",\"Hopeless\",\"Humble\",\"Humorous\",\"Hurt\",\"Impatient\",\"Incisive\",\"Incredulous\",\"Indignant\",\"Inquisitive\",\"Intemperate\",\"Intimate\",\"Introspective\",\"Ironic\",\"Jocund\",\"Joyful\",\"Laudatory\",\"Lethargic\",\"Lighthearted\",\"Loving\",\"Lugubrious\",\"Meditative\",\"Melancholy\",\"Mirthful\",\"Miserable\",\"Mocking\",\"Modest\",\"Mournful\",\"Mysterious\",\"Nervous\",\"Nostalgic\",\"Objective\",\"Ominous\",\"Optimistic\",\"Outspoken\",\"Paranoid\",\"Passionate\",\"Pathetic\",\"Patronizing\",\"Pedantic\",\"Pensive\",\"Persuasive\",\"Pessimistic\",\"Petulant\",\"Pithy\",\"Plaintive\",\"Pleading\",\"Playful\",\"Pompous\",\"Pontifical\",\"Proud\",\"Psychotic\",\"Puckish\",\"Questioning\",\"Relaxed\",\"Reminiscent\",\"Resigned\",\"Reticent\",\"Rhapsodic\",\"Romantic\",\"Sad\",\"Sanctimonious\",\"Sanguine\",\"Sarcastic\",\"Sardonic\",\"Savage\",\"Scared\",\"Scornful\",\"Seductive\",\"Selfish\",\"Sententious\",\"Sentimental\",\"Serene\",\"Serious\",\"Silly\",\"Sinister\",\"Skeptical\",\"Smug\",\"Sober\",\"Solemn\",\"Somber\",\"Soothing\",\"Stressful\",\"Strident\",\"Suspenseful\",\"Suspicious\",\"Sympathetic\",\"Tender\",\"Tense\",\"Terse\",\"Thoughtful\",\"Timorous\",\"Uncaring\",\"Unconcerned\",\"Uneasy\",\"Unhappy\",\"Unsympathetic\",\"Upset\",\"Vibrant\",\"Vitriolic\",\"Whimsical\",\"Wistful\",\"Witty\",\"Worried\",\"Wry\",\"Zealous\"]\n",
    "print(\"test\")\n",
    "for element in vocab:\n",
    "    print(\"### \"+element)\n",
    "    html = urlopen(\"http://dict.youdao.com/w/eng/\"+str(element)+\"/#keyfrom=dict2.index\") \n",
    "    bsObj = BeautifulSoup(html)\n",
    "    for foo in bsObj.find_all('div', attrs={'id': 'tEETrans'}):\n",
    "        bar = foo.find_all('span', attrs={'class': 'def'})\n",
    "        for name in bar:\n",
    "            print(\"- \" + name.get_text())"
   ]
  },
  {
   "cell_type": "code",
   "execution_count": null,
   "metadata": {
    "collapsed": true
   },
   "outputs": [],
   "source": []
  }
 ],
 "metadata": {
  "kernelspec": {
   "display_name": "Python 3",
   "language": "python",
   "name": "python3"
  },
  "language_info": {
   "codemirror_mode": {
    "name": "ipython",
    "version": 3
   },
   "file_extension": ".py",
   "mimetype": "text/x-python",
   "name": "python",
   "nbconvert_exporter": "python",
   "pygments_lexer": "ipython3",
   "version": "3.6.5"
  }
 },
 "nbformat": 4,
 "nbformat_minor": 2
}
